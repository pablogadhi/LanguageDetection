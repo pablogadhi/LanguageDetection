{
 "metadata": {
  "language_info": {
   "codemirror_mode": {
    "name": "ipython",
    "version": 3
   },
   "file_extension": ".py",
   "mimetype": "text/x-python",
   "name": "python",
   "nbconvert_exporter": "python",
   "pygments_lexer": "ipython3",
   "version": "3.8.2-final"
  },
  "orig_nbformat": 2,
  "kernelspec": {
   "name": "python_defaultSpec_1597558700607",
   "display_name": "Python 3.8.2 64-bit ('venv': venv)"
  }
 },
 "nbformat": 4,
 "nbformat_minor": 2,
 "cells": [
  {
   "cell_type": "code",
   "execution_count": 7,
   "metadata": {},
   "outputs": [],
   "source": [
    "import pandas as pd\n",
    "from sklearn import svm\n",
    "from sklearn.preprocessing import MinMaxScaler\n",
    "from sklearn.model_selection import train_test_split"
   ]
  },
  {
   "cell_type": "code",
   "execution_count": 2,
   "metadata": {},
   "outputs": [],
   "source": [
    "data = pd.read_csv('data/translated/bleu_table.csv', index_col=0)"
   ]
  },
  {
   "cell_type": "markdown",
   "metadata": {},
   "source": [
    "## Filter problematic rows"
   ]
  },
  {
   "cell_type": "code",
   "execution_count": 3,
   "metadata": {},
   "outputs": [],
   "source": [
    "filtered = data[data.len > 10]\n",
    "filtered = filtered.drop(columns=['T2-T3_en', 'T2-T3_es', 'T2-T3_fr', 'T2-T3_de'])"
   ]
  },
  {
   "cell_type": "code",
   "execution_count": 4,
   "metadata": {},
   "outputs": [
    {
     "output_type": "execute_result",
     "data": {
      "text/plain": "           T0-T1_en  T1-T2_en  T0-T1_es  T1-T2_es  T0-T1_fr  T1-T2_fr  \\\n1      1.000000e+00  1.000000  0.495827  1.000000       0.0       0.0   \n3      7.361703e-01  1.000000  1.000000  1.000000       0.0       0.0   \n5      7.309044e-01  0.902514  0.850931  1.000000       0.0       0.0   \n6      8.114530e-01  1.000000  1.000000  1.000000       0.0       0.0   \n8      2.586714e-11  0.658037  0.819978  0.857573       0.0       0.0   \n...             ...       ...       ...       ...       ...       ...   \n59995  1.000000e+00  1.000000  1.000000  1.000000       0.0       0.0   \n59996  6.734648e-01  0.750769  0.805558  1.000000       0.0       0.0   \n59997  7.186970e-01  0.625654  0.564882  1.000000       0.0       0.0   \n59998  5.060645e-01  1.000000  1.000000  1.000000       0.0       0.0   \n59999  7.348889e-01  1.000000  0.782542  1.000000       0.0       0.0   \n\n       T0-T1_de  T1-T2_de  src  origin   len  \n1      0.631692  1.000000  2.0     0.0  17.0  \n3      1.000000  1.000000  2.0     0.0  15.0  \n5      0.874341  1.000000  2.0     0.0  30.0  \n6      0.550258  0.921960  2.0     0.0  46.0  \n8      0.611736  0.440588  2.0     0.0  90.0  \n...         ...       ...  ...     ...   ...  \n59995  1.000000  1.000000  2.0     3.0  25.0  \n59996  0.648288  0.634192  2.0     3.0  24.0  \n59997  0.401919  0.509459  2.0     3.0  26.0  \n59998  0.769192  1.000000  2.0     3.0  31.0  \n59999  0.718939  1.000000  2.0     3.0  13.0  \n\n[53498 rows x 11 columns]",
      "text/html": "<div>\n<style scoped>\n    .dataframe tbody tr th:only-of-type {\n        vertical-align: middle;\n    }\n\n    .dataframe tbody tr th {\n        vertical-align: top;\n    }\n\n    .dataframe thead th {\n        text-align: right;\n    }\n</style>\n<table border=\"1\" class=\"dataframe\">\n  <thead>\n    <tr style=\"text-align: right;\">\n      <th></th>\n      <th>T0-T1_en</th>\n      <th>T1-T2_en</th>\n      <th>T0-T1_es</th>\n      <th>T1-T2_es</th>\n      <th>T0-T1_fr</th>\n      <th>T1-T2_fr</th>\n      <th>T0-T1_de</th>\n      <th>T1-T2_de</th>\n      <th>src</th>\n      <th>origin</th>\n      <th>len</th>\n    </tr>\n  </thead>\n  <tbody>\n    <tr>\n      <th>1</th>\n      <td>1.000000e+00</td>\n      <td>1.000000</td>\n      <td>0.495827</td>\n      <td>1.000000</td>\n      <td>0.0</td>\n      <td>0.0</td>\n      <td>0.631692</td>\n      <td>1.000000</td>\n      <td>2.0</td>\n      <td>0.0</td>\n      <td>17.0</td>\n    </tr>\n    <tr>\n      <th>3</th>\n      <td>7.361703e-01</td>\n      <td>1.000000</td>\n      <td>1.000000</td>\n      <td>1.000000</td>\n      <td>0.0</td>\n      <td>0.0</td>\n      <td>1.000000</td>\n      <td>1.000000</td>\n      <td>2.0</td>\n      <td>0.0</td>\n      <td>15.0</td>\n    </tr>\n    <tr>\n      <th>5</th>\n      <td>7.309044e-01</td>\n      <td>0.902514</td>\n      <td>0.850931</td>\n      <td>1.000000</td>\n      <td>0.0</td>\n      <td>0.0</td>\n      <td>0.874341</td>\n      <td>1.000000</td>\n      <td>2.0</td>\n      <td>0.0</td>\n      <td>30.0</td>\n    </tr>\n    <tr>\n      <th>6</th>\n      <td>8.114530e-01</td>\n      <td>1.000000</td>\n      <td>1.000000</td>\n      <td>1.000000</td>\n      <td>0.0</td>\n      <td>0.0</td>\n      <td>0.550258</td>\n      <td>0.921960</td>\n      <td>2.0</td>\n      <td>0.0</td>\n      <td>46.0</td>\n    </tr>\n    <tr>\n      <th>8</th>\n      <td>2.586714e-11</td>\n      <td>0.658037</td>\n      <td>0.819978</td>\n      <td>0.857573</td>\n      <td>0.0</td>\n      <td>0.0</td>\n      <td>0.611736</td>\n      <td>0.440588</td>\n      <td>2.0</td>\n      <td>0.0</td>\n      <td>90.0</td>\n    </tr>\n    <tr>\n      <th>...</th>\n      <td>...</td>\n      <td>...</td>\n      <td>...</td>\n      <td>...</td>\n      <td>...</td>\n      <td>...</td>\n      <td>...</td>\n      <td>...</td>\n      <td>...</td>\n      <td>...</td>\n      <td>...</td>\n    </tr>\n    <tr>\n      <th>59995</th>\n      <td>1.000000e+00</td>\n      <td>1.000000</td>\n      <td>1.000000</td>\n      <td>1.000000</td>\n      <td>0.0</td>\n      <td>0.0</td>\n      <td>1.000000</td>\n      <td>1.000000</td>\n      <td>2.0</td>\n      <td>3.0</td>\n      <td>25.0</td>\n    </tr>\n    <tr>\n      <th>59996</th>\n      <td>6.734648e-01</td>\n      <td>0.750769</td>\n      <td>0.805558</td>\n      <td>1.000000</td>\n      <td>0.0</td>\n      <td>0.0</td>\n      <td>0.648288</td>\n      <td>0.634192</td>\n      <td>2.0</td>\n      <td>3.0</td>\n      <td>24.0</td>\n    </tr>\n    <tr>\n      <th>59997</th>\n      <td>7.186970e-01</td>\n      <td>0.625654</td>\n      <td>0.564882</td>\n      <td>1.000000</td>\n      <td>0.0</td>\n      <td>0.0</td>\n      <td>0.401919</td>\n      <td>0.509459</td>\n      <td>2.0</td>\n      <td>3.0</td>\n      <td>26.0</td>\n    </tr>\n    <tr>\n      <th>59998</th>\n      <td>5.060645e-01</td>\n      <td>1.000000</td>\n      <td>1.000000</td>\n      <td>1.000000</td>\n      <td>0.0</td>\n      <td>0.0</td>\n      <td>0.769192</td>\n      <td>1.000000</td>\n      <td>2.0</td>\n      <td>3.0</td>\n      <td>31.0</td>\n    </tr>\n    <tr>\n      <th>59999</th>\n      <td>7.348889e-01</td>\n      <td>1.000000</td>\n      <td>0.782542</td>\n      <td>1.000000</td>\n      <td>0.0</td>\n      <td>0.0</td>\n      <td>0.718939</td>\n      <td>1.000000</td>\n      <td>2.0</td>\n      <td>3.0</td>\n      <td>13.0</td>\n    </tr>\n  </tbody>\n</table>\n<p>53498 rows × 11 columns</p>\n</div>"
     },
     "metadata": {},
     "execution_count": 4
    }
   ],
   "source": [
    "filtered"
   ]
  },
  {
   "cell_type": "code",
   "execution_count": 16,
   "metadata": {},
   "outputs": [
    {
     "output_type": "execute_result",
     "data": {
      "text/plain": "           T0-T1_en  T1-T2_en  T0-T1_es  T1-T2_es  T0-T1_fr  T1-T2_fr  \\\n1      1.000000e+00  1.000000  0.495827  1.000000       0.0       0.0   \n3      7.361703e-01  1.000000  1.000000  1.000000       0.0       0.0   \n5      7.309044e-01  0.902514  0.850931  1.000000       0.0       0.0   \n6      8.114530e-01  1.000000  1.000000  1.000000       0.0       0.0   \n8      2.586714e-11  0.658037  0.819978  0.857573       0.0       0.0   \n...             ...       ...       ...       ...       ...       ...   \n59995  1.000000e+00  1.000000  1.000000  1.000000       0.0       0.0   \n59996  6.734648e-01  0.750769  0.805558  1.000000       0.0       0.0   \n59997  7.186970e-01  0.625654  0.564882  1.000000       0.0       0.0   \n59998  5.060645e-01  1.000000  1.000000  1.000000       0.0       0.0   \n59999  7.348889e-01  1.000000  0.782542  1.000000       0.0       0.0   \n\n       T0-T1_de  T1-T2_de       len  src_0.0  src_1.0  src_2.0  src_3.0  \\\n1      0.631692  1.000000  0.027907        0        0        1        0   \n3      1.000000  1.000000  0.018605        0        0        1        0   \n5      0.874341  1.000000  0.088372        0        0        1        0   \n6      0.550258  0.921960  0.162791        0        0        1        0   \n8      0.611736  0.440588  0.367442        0        0        1        0   \n...         ...       ...       ...      ...      ...      ...      ...   \n59995  1.000000  1.000000  0.065116        0        0        1        0   \n59996  0.648288  0.634192  0.060465        0        0        1        0   \n59997  0.401919  0.509459  0.069767        0        0        1        0   \n59998  0.769192  1.000000  0.093023        0        0        1        0   \n59999  0.718939  1.000000  0.009302        0        0        1        0   \n\n       origin_0.0  origin_1.0  origin_2.0  origin_3.0  \n1               1           0           0           0  \n3               1           0           0           0  \n5               1           0           0           0  \n6               1           0           0           0  \n8               1           0           0           0  \n...           ...         ...         ...         ...  \n59995           0           0           0           1  \n59996           0           0           0           1  \n59997           0           0           0           1  \n59998           0           0           0           1  \n59999           0           0           0           1  \n\n[53498 rows x 17 columns]",
      "text/html": "<div>\n<style scoped>\n    .dataframe tbody tr th:only-of-type {\n        vertical-align: middle;\n    }\n\n    .dataframe tbody tr th {\n        vertical-align: top;\n    }\n\n    .dataframe thead th {\n        text-align: right;\n    }\n</style>\n<table border=\"1\" class=\"dataframe\">\n  <thead>\n    <tr style=\"text-align: right;\">\n      <th></th>\n      <th>T0-T1_en</th>\n      <th>T1-T2_en</th>\n      <th>T0-T1_es</th>\n      <th>T1-T2_es</th>\n      <th>T0-T1_fr</th>\n      <th>T1-T2_fr</th>\n      <th>T0-T1_de</th>\n      <th>T1-T2_de</th>\n      <th>len</th>\n      <th>src_0.0</th>\n      <th>src_1.0</th>\n      <th>src_2.0</th>\n      <th>src_3.0</th>\n      <th>origin_0.0</th>\n      <th>origin_1.0</th>\n      <th>origin_2.0</th>\n      <th>origin_3.0</th>\n    </tr>\n  </thead>\n  <tbody>\n    <tr>\n      <th>1</th>\n      <td>1.000000e+00</td>\n      <td>1.000000</td>\n      <td>0.495827</td>\n      <td>1.000000</td>\n      <td>0.0</td>\n      <td>0.0</td>\n      <td>0.631692</td>\n      <td>1.000000</td>\n      <td>0.027907</td>\n      <td>0</td>\n      <td>0</td>\n      <td>1</td>\n      <td>0</td>\n      <td>1</td>\n      <td>0</td>\n      <td>0</td>\n      <td>0</td>\n    </tr>\n    <tr>\n      <th>3</th>\n      <td>7.361703e-01</td>\n      <td>1.000000</td>\n      <td>1.000000</td>\n      <td>1.000000</td>\n      <td>0.0</td>\n      <td>0.0</td>\n      <td>1.000000</td>\n      <td>1.000000</td>\n      <td>0.018605</td>\n      <td>0</td>\n      <td>0</td>\n      <td>1</td>\n      <td>0</td>\n      <td>1</td>\n      <td>0</td>\n      <td>0</td>\n      <td>0</td>\n    </tr>\n    <tr>\n      <th>5</th>\n      <td>7.309044e-01</td>\n      <td>0.902514</td>\n      <td>0.850931</td>\n      <td>1.000000</td>\n      <td>0.0</td>\n      <td>0.0</td>\n      <td>0.874341</td>\n      <td>1.000000</td>\n      <td>0.088372</td>\n      <td>0</td>\n      <td>0</td>\n      <td>1</td>\n      <td>0</td>\n      <td>1</td>\n      <td>0</td>\n      <td>0</td>\n      <td>0</td>\n    </tr>\n    <tr>\n      <th>6</th>\n      <td>8.114530e-01</td>\n      <td>1.000000</td>\n      <td>1.000000</td>\n      <td>1.000000</td>\n      <td>0.0</td>\n      <td>0.0</td>\n      <td>0.550258</td>\n      <td>0.921960</td>\n      <td>0.162791</td>\n      <td>0</td>\n      <td>0</td>\n      <td>1</td>\n      <td>0</td>\n      <td>1</td>\n      <td>0</td>\n      <td>0</td>\n      <td>0</td>\n    </tr>\n    <tr>\n      <th>8</th>\n      <td>2.586714e-11</td>\n      <td>0.658037</td>\n      <td>0.819978</td>\n      <td>0.857573</td>\n      <td>0.0</td>\n      <td>0.0</td>\n      <td>0.611736</td>\n      <td>0.440588</td>\n      <td>0.367442</td>\n      <td>0</td>\n      <td>0</td>\n      <td>1</td>\n      <td>0</td>\n      <td>1</td>\n      <td>0</td>\n      <td>0</td>\n      <td>0</td>\n    </tr>\n    <tr>\n      <th>...</th>\n      <td>...</td>\n      <td>...</td>\n      <td>...</td>\n      <td>...</td>\n      <td>...</td>\n      <td>...</td>\n      <td>...</td>\n      <td>...</td>\n      <td>...</td>\n      <td>...</td>\n      <td>...</td>\n      <td>...</td>\n      <td>...</td>\n      <td>...</td>\n      <td>...</td>\n      <td>...</td>\n      <td>...</td>\n    </tr>\n    <tr>\n      <th>59995</th>\n      <td>1.000000e+00</td>\n      <td>1.000000</td>\n      <td>1.000000</td>\n      <td>1.000000</td>\n      <td>0.0</td>\n      <td>0.0</td>\n      <td>1.000000</td>\n      <td>1.000000</td>\n      <td>0.065116</td>\n      <td>0</td>\n      <td>0</td>\n      <td>1</td>\n      <td>0</td>\n      <td>0</td>\n      <td>0</td>\n      <td>0</td>\n      <td>1</td>\n    </tr>\n    <tr>\n      <th>59996</th>\n      <td>6.734648e-01</td>\n      <td>0.750769</td>\n      <td>0.805558</td>\n      <td>1.000000</td>\n      <td>0.0</td>\n      <td>0.0</td>\n      <td>0.648288</td>\n      <td>0.634192</td>\n      <td>0.060465</td>\n      <td>0</td>\n      <td>0</td>\n      <td>1</td>\n      <td>0</td>\n      <td>0</td>\n      <td>0</td>\n      <td>0</td>\n      <td>1</td>\n    </tr>\n    <tr>\n      <th>59997</th>\n      <td>7.186970e-01</td>\n      <td>0.625654</td>\n      <td>0.564882</td>\n      <td>1.000000</td>\n      <td>0.0</td>\n      <td>0.0</td>\n      <td>0.401919</td>\n      <td>0.509459</td>\n      <td>0.069767</td>\n      <td>0</td>\n      <td>0</td>\n      <td>1</td>\n      <td>0</td>\n      <td>0</td>\n      <td>0</td>\n      <td>0</td>\n      <td>1</td>\n    </tr>\n    <tr>\n      <th>59998</th>\n      <td>5.060645e-01</td>\n      <td>1.000000</td>\n      <td>1.000000</td>\n      <td>1.000000</td>\n      <td>0.0</td>\n      <td>0.0</td>\n      <td>0.769192</td>\n      <td>1.000000</td>\n      <td>0.093023</td>\n      <td>0</td>\n      <td>0</td>\n      <td>1</td>\n      <td>0</td>\n      <td>0</td>\n      <td>0</td>\n      <td>0</td>\n      <td>1</td>\n    </tr>\n    <tr>\n      <th>59999</th>\n      <td>7.348889e-01</td>\n      <td>1.000000</td>\n      <td>0.782542</td>\n      <td>1.000000</td>\n      <td>0.0</td>\n      <td>0.0</td>\n      <td>0.718939</td>\n      <td>1.000000</td>\n      <td>0.009302</td>\n      <td>0</td>\n      <td>0</td>\n      <td>1</td>\n      <td>0</td>\n      <td>0</td>\n      <td>0</td>\n      <td>0</td>\n      <td>1</td>\n    </tr>\n  </tbody>\n</table>\n<p>53498 rows × 17 columns</p>\n</div>"
     },
     "metadata": {},
     "execution_count": 16
    }
   ],
   "source": [
    "norm_data = pd.get_dummies(filtered, columns=['src', 'origin'])\n",
    "scaler = MinMaxScaler()\n",
    "lengths = scaler.fit_transform(norm_data['len'].values.reshape(-1, 1))\n",
    "norm_data['len'] = lengths\n",
    "norm_data"
   ]
  },
  {
   "cell_type": "markdown",
   "metadata": {},
   "source": [
    "## Prepare and split data"
   ]
  },
  {
   "cell_type": "code",
   "execution_count": 5,
   "metadata": {},
   "outputs": [],
   "source": [
    "y = filtered.origin\n",
    "X = filtered.loc[:, filtered.columns != 'origin']\n",
    "X_train, X_test, y_train, y_test = train_test_split(X, y, test_size=0.20, random_state=42)"
   ]
  },
  {
   "cell_type": "code",
   "execution_count": 6,
   "metadata": {},
   "outputs": [
    {
     "output_type": "execute_result",
     "data": {
      "text/plain": "SVC(probability=True)"
     },
     "metadata": {},
     "execution_count": 6
    }
   ],
   "source": [
    "classifier = svm.SVC(probability=True)\n",
    "classifier.fit(X_train, y_train)"
   ]
  },
  {
   "cell_type": "code",
   "execution_count": 8,
   "metadata": {},
   "outputs": [
    {
     "output_type": "execute_result",
     "data": {
      "text/plain": "0.33130841121495325"
     },
     "metadata": {},
     "execution_count": 8
    }
   ],
   "source": [
    "classifier.score(X_test, y_test)"
   ]
  },
  {
   "cell_type": "code",
   "execution_count": null,
   "metadata": {},
   "outputs": [],
   "source": []
  }
 ]
}