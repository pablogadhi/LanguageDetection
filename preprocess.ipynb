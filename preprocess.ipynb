{
 "cells": [
  {
   "cell_type": "code",
   "execution_count": 1,
   "metadata": {},
   "outputs": [],
   "source": [
    "import time\n",
    "import random\n",
    "import os\n",
    "import requests\n",
    "import numpy as np\n",
    "import pandas as pd\n",
    "from os import listdir, remove, mkdir\n",
    "from os.path import join as join_path\n",
    "from nltk.translate.bleu_score import sentence_bleu, SmoothingFunction\n",
    "from nltk.translate.meteor_score import meteor_score\n",
    "from pyonmttok import Tokenizer"
   ]
  },
  {
   "cell_type": "markdown",
   "metadata": {},
   "source": [
    "# Preprocessing europarl data"
   ]
  },
  {
   "cell_type": "code",
   "execution_count": 5,
   "metadata": {},
   "outputs": [],
   "source": [
    "euro_data_dir = \"../europarl/aligned/\"\n",
    "output_data_dir = \"./data/original/\""
   ]
  },
  {
   "cell_type": "markdown",
   "metadata": {},
   "source": [
    "## Join Files"
   ]
  },
  {
   "cell_type": "code",
   "execution_count": 6,
   "metadata": {
    "tags": []
   },
   "outputs": [],
   "source": [
    "for l_pair in listdir(euro_data_dir):\n",
    "    pair_path = join_path(euro_data_dir, l_pair)\n",
    "    for l_dir in listdir(pair_path):\n",
    "        out_file = open(output_data_dir + l_pair + \"_\" + l_dir + \".txt\", \"w\")\n",
    "        l_path = join_path(pair_path, l_dir)\n",
    "        for file_name in sorted(listdir(l_path)):\n",
    "            # Consume content and split lines\n",
    "            content = open(join_path(l_path, file_name), \"r\").read() \n",
    "\n",
    "            # Write content in output file\n",
    "            out_file.write(content)\n"
   ]
  },
  {
   "cell_type": "markdown",
   "metadata": {},
   "source": [
    "## Load corpus in memory"
   ]
  },
  {
   "cell_type": "code",
   "execution_count": 8,
   "metadata": {},
   "outputs": [],
   "source": [
    "def load_corpus(data_dir, as_np_array=False):\n",
    "    corpus = {}\n",
    "    for file_name in listdir(data_dir):\n",
    "        path = join_path(data_dir, file_name)\n",
    "        if os.path.isfile(path):\n",
    "            file = open(path, \"r+\")\n",
    "            l_pair = file_name[:5]\n",
    "            if l_pair not in corpus:\n",
    "                corpus[l_pair] = {}\n",
    "            if as_np_array:\n",
    "                corpus[l_pair][file_name] = np.array(file.read().split('\\n'), dtype=object)\n",
    "            else:\n",
    "                corpus[l_pair][file_name[:3]] = file.read().split('\\n')\n",
    "            file.close()\n",
    "            remove(path)\n",
    "    return corpus"
   ]
  },
  {
   "cell_type": "code",
   "execution_count": 9,
   "metadata": {},
   "outputs": [],
   "source": [
    "corpus = load_corpus(output_data_dir, True)"
   ]
  },
  {
   "cell_type": "markdown",
   "metadata": {},
   "source": [
    "## Delete short lines and lines with xml tags"
   ]
  },
  {
   "cell_type": "code",
   "execution_count": 10,
   "metadata": {
    "tags": []
   },
   "outputs": [
    {
     "output_type": "stream",
     "name": "stdout",
     "text": "2000491\n2000491\n1910858\n1910858\n1958593\n1958593\n"
    }
   ],
   "source": [
    "for pair, l_data in corpus.items():\n",
    "\n",
    "    # Find special lines\n",
    "    empty_lines = np.array([], dtype=int)\n",
    "    for _, value in l_data.items():\n",
    "        is_empty = np.vectorize(lambda x: len(x) <= 7 or x[0] == \"<\" or x[0] == \"(\")\n",
    "        indices = np.nonzero(is_empty(value))[0]\n",
    "        empty_lines = np.concatenate((empty_lines, indices))\n",
    "    empty_lines = np.unique(empty_lines)\n",
    "\n",
    "    # Remove lines with an xml tag or an empty char\n",
    "    for key, value in l_data.items():\n",
    "        new_corpus = np.delete(value, empty_lines)\n",
    "        corpus[pair][key] = new_corpus.tolist()\n",
    "        print(len(new_corpus))\n",
    "        "
   ]
  },
  {
   "cell_type": "markdown",
   "metadata": {},
   "source": [
    "## Write new file(s)"
   ]
  },
  {
   "cell_type": "code",
   "execution_count": 11,
   "metadata": {},
   "outputs": [],
   "source": [
    "for lang_pair, pair_dict in corpus.items():\n",
    "    for file_name, data in pair_dict.items():\n",
    "        file = open(join_path(output_data_dir, file_name), 'w')\n",
    "        file.write(\"\\n\".join(data))\n"
   ]
  },
  {
   "cell_type": "markdown",
   "metadata": {},
   "source": [
    "### The following steps must be run after executing the multialign script and the BPE tokenization script"
   ]
  },
  {
   "cell_type": "markdown",
   "metadata": {},
   "source": [
    "## Join language files and add translation token"
   ]
  },
  {
   "cell_type": "code",
   "execution_count": 2,
   "metadata": {
    "tags": []
   },
   "outputs": [],
   "source": [
    "tokenized_dir = './data/tokenized/'\n",
    "output_dir = './data/'\n",
    "\n",
    "for sub_set in listdir(tokenized_dir):\n",
    "    sub_set_path = join_path(tokenized_dir, sub_set)\n",
    "\n",
    "    corpus = {}\n",
    "    src_data = []\n",
    "    tgt_data = []\n",
    "\n",
    "    for file_name in listdir(sub_set_path):\n",
    "        file_path = join_path(sub_set_path, file_name)\n",
    "        file = open(file_path, 'r')\n",
    "        corpus[file_name[:-4]] = file.read().split('\\n')\n",
    "\n",
    "    # An extra line will be created when loading the data to memory,\n",
    "    # that's why the -1 is there\n",
    "    for i in range(0, len(corpus['en']) - 1):\n",
    "        for src in corpus:\n",
    "            targets = filter(lambda x: x != src, corpus.keys())\n",
    "            for tgt in targets:\n",
    "                src_sentence = '_src_{}_tgt_{} '.format(src, tgt) + corpus[src][i]\n",
    "                src_data.append(src_sentence)\n",
    "                tgt_data.append(corpus[tgt][i])\n",
    "\n",
    "    out_src = open(join_path(output_dir, 'europarl_{}_src.txt'.format(sub_set)), 'w')\n",
    "    out_src.write(\"\\n\".join(src_data))\n",
    "    out_src = open(join_path(output_dir, 'europarl_{}_tgt.txt'.format(sub_set)), 'w')\n",
    "    out_src.write(\"\\n\".join(tgt_data))\n",
    "\n"
   ]
  },
  {
   "cell_type": "markdown",
   "metadata": {},
   "source": [
    "# Preprocessing classifier data"
   ]
  },
  {
   "cell_type": "code",
   "execution_count": 2,
   "metadata": {},
   "outputs": [],
   "source": [
    "location = './data/translated/'\n",
    "out_location = './data/'\n",
    "lang_pool = ['en', 'es', 'fr', 'de']\n",
    "back_translation_num = 2"
   ]
  },
  {
   "cell_type": "markdown",
   "metadata": {},
   "source": [
    "## Generate Back-Translations"
   ]
  },
  {
   "cell_type": "code",
   "execution_count": 5,
   "metadata": {
    "tags": []
   },
   "outputs": [
    {
     "output_type": "stream",
     "name": "stdout",
     "text": [
      "Starting loops for: fr_es.txt\n",
      "Elapsed time to generate T0 for es to en: 209.75878834724426s\n",
      "Elapsed time to generate Back0 for en to es: 214.45979571342468s\n",
      "Elapsed time to generate T1 for es to en: 205.20216965675354s\n",
      "Elapsed time to generate Back1 for en to es: 212.2250735759735s\n",
      "Elapsed time to generate T2 for es to en: 204.3284251689911s\n",
      "Elapsed time to generate T0 for es to fr: 237.48105788230896s\n",
      "Elapsed time to generate Back0 for fr to es: 236.98357772827148s\n",
      "Elapsed time to generate T1 for es to fr: 227.36409211158752s\n",
      "Elapsed time to generate Back1 for fr to es: 216.3771185874939s\n",
      "Elapsed time to generate T2 for es to fr: 228.2659454345703s\n",
      "Elapsed time to generate T0 for es to de: 211.67511630058289s\n",
      "Elapsed time to generate Back0 for de to es: 214.99355340003967s\n",
      "Elapsed time to generate T1 for es to de: 204.45840764045715s\n",
      "Elapsed time to generate Back1 for de to es: 208.4512062072754s\n",
      "Elapsed time to generate T2 for es to de: 198.26984000205994s\n",
      "Starting loops for: fr_de.txt\n",
      "Elapsed time to generate T0 for de to en: 209.33372831344604s\n",
      "Elapsed time to generate Back0 for en to de: 204.6731812953949s\n",
      "Elapsed time to generate T1 for de to en: 203.05533146858215s\n",
      "Elapsed time to generate Back1 for en to de: 201.0515923500061s\n",
      "Elapsed time to generate T2 for de to en: 203.29404187202454s\n",
      "Elapsed time to generate T0 for de to es: 222.8765664100647s\n",
      "Elapsed time to generate Back0 for es to de: 206.39225673675537s\n",
      "Elapsed time to generate T1 for de to es: 212.0841257572174s\n",
      "Elapsed time to generate Back1 for es to de: 201.4529836177826s\n",
      "Elapsed time to generate T2 for de to es: 211.86889243125916s\n",
      "Elapsed time to generate T0 for de to fr: 239.08245277404785s\n",
      "Elapsed time to generate Back0 for fr to de: 217.38819980621338s\n",
      "Elapsed time to generate T1 for de to fr: 233.23735070228577s\n",
      "Elapsed time to generate Back1 for fr to de: 211.94767546653748s\n",
      "Elapsed time to generate T2 for de to fr: 228.0730152130127s\n",
      "Starting loops for: es_fr.txt\n",
      "Elapsed time to generate T0 for fr to en: 219.02850532531738s\n",
      "Elapsed time to generate Back0 for en to fr: 231.14322590827942s\n",
      "Elapsed time to generate T1 for fr to en: 208.8605329990387s\n",
      "Elapsed time to generate Back1 for en to fr: 225.48259162902832s\n",
      "Elapsed time to generate T2 for fr to en: 207.84285306930542s\n",
      "Elapsed time to generate T0 for fr to es: 223.86286425590515s\n",
      "Elapsed time to generate Back0 for es to fr: 227.79383897781372s\n",
      "Elapsed time to generate T1 for fr to es: 216.30923795700073s\n",
      "Elapsed time to generate Back1 for es to fr: 226.16433477401733s\n",
      "Elapsed time to generate T2 for fr to es: 214.27805471420288s\n",
      "Elapsed time to generate T0 for fr to de: 215.70960474014282s\n",
      "Elapsed time to generate Back0 for de to fr: 228.0194673538208s\n",
      "Elapsed time to generate T1 for fr to de: 206.55701756477356s\n",
      "Elapsed time to generate Back1 for de to fr: 225.99457597732544s\n",
      "Elapsed time to generate T2 for fr to de: 205.907564163208s\n",
      "Starting loops for: de_en.txt\n",
      "Elapsed time to generate T0 for en to es: 223.34017157554626s\n",
      "Elapsed time to generate Back0 for es to en: 209.33077311515808s\n",
      "Elapsed time to generate T1 for en to es: 215.6749472618103s\n",
      "Elapsed time to generate Back1 for es to en: 202.59514331817627s\n",
      "Elapsed time to generate T2 for en to es: 212.31130361557007s\n",
      "Elapsed time to generate T0 for en to fr: 240.2896430492401s\n",
      "Elapsed time to generate Back0 for fr to en: 214.91220879554749s\n",
      "Elapsed time to generate T1 for en to fr: 229.46729516983032s\n",
      "Elapsed time to generate Back1 for fr to en: 209.93893599510193s\n",
      "Elapsed time to generate T2 for en to fr: 228.2512490749359s\n",
      "Elapsed time to generate T0 for en to de: 210.99016499519348s\n",
      "Elapsed time to generate Back0 for de to en: 208.9815912246704s\n",
      "Elapsed time to generate T1 for en to de: 203.6821005344391s\n",
      "Elapsed time to generate Back1 for de to en: 204.76797246932983s\n",
      "Elapsed time to generate T2 for en to de: 202.16543889045715s\n",
      "Starting loops for: fr_en.txt\n",
      "Elapsed time to generate T0 for en to es: 219.4840543270111s\n",
      "Elapsed time to generate Back0 for es to en: 206.43753337860107s\n",
      "Elapsed time to generate T1 for en to es: 212.57433891296387s\n",
      "Elapsed time to generate Back1 for es to en: 265.2932035923004s\n",
      "Elapsed time to generate T2 for en to es: 274.74494338035583s\n",
      "Elapsed time to generate T0 for en to fr: 307.1858448982239s\n",
      "Elapsed time to generate Back0 for fr to en: 279.15885496139526s\n",
      "Elapsed time to generate T1 for en to fr: 291.24999260902405s\n",
      "Elapsed time to generate Back1 for fr to en: 232.27960181236267s\n",
      "Elapsed time to generate T2 for en to fr: 227.954598903656s\n",
      "Elapsed time to generate T0 for en to de: 212.54199171066284s\n",
      "Elapsed time to generate Back0 for de to en: 207.6364507675171s\n",
      "Elapsed time to generate T1 for en to de: 204.11576795578003s\n",
      "Elapsed time to generate Back1 for de to en: 201.48365807533264s\n",
      "Elapsed time to generate T2 for en to de: 201.91217494010925s\n",
      "Starting loops for: de_es.txt\n",
      "Elapsed time to generate T0 for es to en: 212.01336908340454s\n",
      "Elapsed time to generate Back0 for en to es: 215.89541006088257s\n",
      "Elapsed time to generate T1 for es to en: 205.99561715126038s\n",
      "Elapsed time to generate Back1 for en to es: 212.52015733718872s\n",
      "Elapsed time to generate T2 for es to en: 203.803457736969s\n",
      "Elapsed time to generate T0 for es to fr: 238.5308609008789s\n",
      "Elapsed time to generate Back0 for fr to es: 220.9752757549286s\n",
      "Elapsed time to generate T1 for es to fr: 228.44026827812195s\n",
      "Elapsed time to generate Back1 for fr to es: 217.48203468322754s\n",
      "Elapsed time to generate T2 for es to fr: 225.9562439918518s\n",
      "Elapsed time to generate T0 for es to de: 210.20463299751282s\n",
      "Elapsed time to generate Back0 for de to es: 215.75884342193604s\n",
      "Elapsed time to generate T1 for es to de: 202.33643770217896s\n",
      "Elapsed time to generate Back1 for de to es: 211.76251888275146s\n",
      "Elapsed time to generate T2 for es to de: 202.02084684371948s\n",
      "Starting loops for: es_en.txt\n",
      "Elapsed time to generate T0 for en to es: 223.4836142063141s\n",
      "Elapsed time to generate Back0 for es to en: 209.26702737808228s\n",
      "Elapsed time to generate T1 for en to es: 216.35780596733093s\n",
      "Elapsed time to generate Back1 for es to en: 205.6285297870636s\n",
      "Elapsed time to generate T2 for en to es: 214.16970229148865s\n",
      "Elapsed time to generate T0 for en to fr: 239.54814052581787s\n",
      "Elapsed time to generate Back0 for fr to en: 213.63455271720886s\n",
      "Elapsed time to generate T1 for en to fr: 228.37228298187256s\n",
      "Elapsed time to generate Back1 for fr to en: 208.75976705551147s\n",
      "Elapsed time to generate T2 for en to fr: 226.45808267593384s\n",
      "Elapsed time to generate T0 for en to de: 211.93583798408508s\n",
      "Elapsed time to generate Back0 for de to en: 205.58748745918274s\n",
      "Elapsed time to generate T1 for en to de: 203.4652783870697s\n",
      "Elapsed time to generate Back1 for de to en: 203.80680322647095s\n",
      "Elapsed time to generate T2 for en to de: 200.95670437812805s\n",
      "Starting loops for: en_es.txt\n",
      "Elapsed time to generate T0 for es to en: 235.96536326408386s\n",
      "Elapsed time to generate Back0 for en to es: 280.943208694458s\n",
      "Elapsed time to generate T1 for es to en: 266.8592631816864s\n",
      "Elapsed time to generate Back1 for en to es: 274.94375443458557s\n",
      "Elapsed time to generate T2 for es to en: 265.3992190361023s\n",
      "Elapsed time to generate T0 for es to fr: 311.06369805336s\n",
      "Elapsed time to generate Back0 for fr to es: 284.50327491760254s\n",
      "Elapsed time to generate T1 for es to fr: 296.12277150154114s\n",
      "Elapsed time to generate Back1 for fr to es: 278.3578338623047s\n",
      "Elapsed time to generate T2 for es to fr: 290.308002948761s\n",
      "Elapsed time to generate T0 for es to de: 274.882780790329s\n",
      "Elapsed time to generate Back0 for de to es: 261.96232771873474s\n",
      "Elapsed time to generate T1 for es to de: 201.72527718544006s\n",
      "Elapsed time to generate Back1 for de to es: 210.86429572105408s\n",
      "Elapsed time to generate T2 for es to de: 201.4974865913391s\n",
      "Starting loops for: es_de.txt\n",
      "Elapsed time to generate T0 for de to en: 213.03931736946106s\n",
      "Elapsed time to generate Back0 for en to de: 205.6456003189087s\n",
      "Elapsed time to generate T1 for de to en: 204.6101529598236s\n",
      "Elapsed time to generate Back1 for en to de: 202.19429898262024s\n",
      "Elapsed time to generate T2 for de to en: 202.22730040550232s\n",
      "Elapsed time to generate T0 for de to es: 218.41249418258667s\n",
      "Elapsed time to generate Back0 for es to de: 203.96908807754517s\n",
      "Elapsed time to generate T1 for de to es: 211.7849943637848s\n",
      "Elapsed time to generate Back1 for es to de: 201.12691926956177s\n",
      "Elapsed time to generate T2 for de to es: 208.3882393836975s\n",
      "Elapsed time to generate T0 for de to fr: 234.78270554542542s\n",
      "Elapsed time to generate Back0 for fr to de: 213.42199993133545s\n",
      "Elapsed time to generate T1 for de to fr: 228.30985116958618s\n",
      "Elapsed time to generate Back1 for fr to de: 209.94254994392395s\n",
      "Elapsed time to generate T2 for de to fr: 226.21121788024902s\n",
      "Starting loops for: en_de.txt\n",
      "Elapsed time to generate T0 for de to en: 214.78499841690063s\n",
      "Elapsed time to generate Back0 for en to de: 211.1938693523407s\n",
      "Elapsed time to generate T1 for de to en: 207.02041006088257s\n",
      "Elapsed time to generate Back1 for en to de: 205.24746584892273s\n",
      "Elapsed time to generate T2 for de to en: 207.1451609134674s\n",
      "Elapsed time to generate T0 for de to es: 224.44010949134827s\n",
      "Elapsed time to generate Back0 for es to de: 207.1977186203003s\n",
      "Elapsed time to generate T1 for de to es: 212.31035804748535s\n",
      "Elapsed time to generate Back1 for es to de: 203.75437211990356s\n",
      "Elapsed time to generate T2 for de to es: 211.96116185188293s\n",
      "Elapsed time to generate T0 for de to fr: 238.4904134273529s\n",
      "Elapsed time to generate Back0 for fr to de: 214.09291529655457s\n",
      "Elapsed time to generate T1 for de to fr: 227.81060600280762s\n",
      "Elapsed time to generate Back1 for fr to de: 208.75817584991455s\n",
      "Elapsed time to generate T2 for de to fr: 226.5112819671631s\n",
      "Starting loops for: de_fr.txt\n",
      "Elapsed time to generate T0 for fr to en: 218.86917400360107s\n",
      "Elapsed time to generate Back0 for en to fr: 231.74405980110168s\n",
      "Elapsed time to generate T1 for fr to en: 209.73131704330444s\n",
      "Elapsed time to generate Back1 for en to fr: 228.0274109840393s\n",
      "Elapsed time to generate T2 for fr to en: 208.98800992965698s\n",
      "Elapsed time to generate T0 for fr to es: 225.38107252120972s\n",
      "Elapsed time to generate Back0 for es to fr: 231.42739415168762s\n",
      "Elapsed time to generate T1 for fr to es: 218.15791964530945s\n",
      "Elapsed time to generate Back1 for es to fr: 226.1034119129181s\n",
      "Elapsed time to generate T2 for fr to es: 216.3412148952484s\n",
      "Elapsed time to generate T0 for fr to de: 217.78446531295776s\n",
      "Elapsed time to generate Back0 for de to fr: 233.37079668045044s\n",
      "Elapsed time to generate T1 for fr to de: 210.77518129348755s\n",
      "Elapsed time to generate Back1 for de to fr: 228.097758769989s\n",
      "Elapsed time to generate T2 for fr to de: 208.00727772712708s\n",
      "Starting loops for: en_fr.txt\n",
      "Elapsed time to generate T0 for fr to en: 219.56023454666138s\n",
      "Elapsed time to generate Back0 for en to fr: 233.41171193122864s\n",
      "Elapsed time to generate T1 for fr to en: 211.8034999370575s\n",
      "Elapsed time to generate Back1 for en to fr: 228.455748796463s\n",
      "Elapsed time to generate T2 for fr to en: 211.0854082107544s\n",
      "Elapsed time to generate T0 for fr to es: 227.11878538131714s\n",
      "Elapsed time to generate Back0 for es to fr: 231.1477017402649s\n",
      "Elapsed time to generate T1 for fr to es: 219.2627398967743s\n",
      "Elapsed time to generate Back1 for es to fr: 228.29305601119995s\n",
      "Elapsed time to generate T2 for fr to es: 215.2489094734192s\n",
      "Elapsed time to generate T0 for fr to de: 222.04688572883606s\n",
      "Elapsed time to generate Back0 for de to fr: 231.01862692832947s\n",
      "Elapsed time to generate T1 for fr to de: 211.5044882297516s\n",
      "Elapsed time to generate Back1 for de to fr: 226.63052034378052s\n",
      "Elapsed time to generate T2 for fr to de: 208.05244255065918s\n"
     ]
    }
   ],
   "source": [
    "ignore = []\n",
    "\n",
    "def translate_text(text, src, tgt, file_name, dir_path):\n",
    "    start = time.time()\n",
    "    response = requests.post('http://localhost:8080/translate', data = {'text': text, 'src': src, 'tgt': tgt})\n",
    "    end = time.time()\n",
    "    print('Elapsed time to generate {} for {} to {}: {}s'.format(file_name, src, tgt, end - start))\n",
    "    res_file = open(join_path(dir_path, '{}.txt'.format(file_name)), 'w')\n",
    "    res_file.write(response.text)\n",
    "    return response.text\n",
    "\n",
    "for file_name in listdir(location):\n",
    "    path = join_path(location, file_name)\n",
    "    dir_path = path[:-4]\n",
    "    if os.path.isfile(path) and file_name[:-4] not in ignore:\n",
    "        print(\"Starting loops for:\", file_name)\n",
    "        original_lang = file_name[:2]\n",
    "        translated_lang = file_name[-6:-4]\n",
    "\n",
    "        if not os.path.isdir(dir_path):\n",
    "            mkdir(dir_path)\n",
    "\n",
    "        content = open(path, 'r').read()\n",
    "        \n",
    "        for tgt in filter(lambda x: x != translated_lang, lang_pool):\n",
    "            tgt_dir = join_path(dir_path, tgt)\n",
    "            if not os.path.isdir(tgt_dir):\n",
    "                mkdir(tgt_dir)\n",
    "\n",
    "            last_back = content\n",
    "            for i in range(0, back_translation_num):\n",
    "                translation = translate_text(last_back, translated_lang, tgt, 'T{}'.format(i), tgt_dir)\n",
    "                last_back = translate_text(translation, tgt, translated_lang, 'Back{}'.format(i), tgt_dir)\n",
    "            translate_text(last_back, translated_lang, tgt, 'T{}'.format(back_translation_num), tgt_dir)\n",
    "\n",
    "\n",
    "\n",
    "\n",
    "        "
   ]
  },
  {
   "cell_type": "markdown",
   "metadata": {},
   "source": [
    "## Generate BLEU-Score Table"
   ]
  },
  {
   "cell_type": "code",
   "execution_count": 5,
   "metadata": {},
   "outputs": [],
   "source": [
    "columns = ['T{}-T{}_{}'.format(i, i+1, lang) for lang in lang_pool for i in range(\n",
    "    0, back_translation_num)] + ['src', 'origin', 'len']\n",
    "data = np.zeros((4*back_translation_num+3))\n",
    "tokenizer = Tokenizer('conservative')\n",
    "smoothing = SmoothingFunction()\n",
    "score_func = lambda ref, hyp: sentence_bleu([ref], hyp, smoothing_function=smoothing.method4)\n",
    "# score_func = lambda ref, hyp: meteor_score([ref], hyp)\n",
    "\n",
    "for directory in [d for d in os.listdir(location) if os.path.isdir(join_path(location, d))]:\n",
    "    path = join_path(location, directory)\n",
    "\n",
    "    # Get the original file_size\n",
    "    src_file = open(join_path(location, \"{}.txt\".format(directory)), 'r')\n",
    "    file_size = len(src_file.read().split('\\n'))\n",
    "    src_file.close()\n",
    "\n",
    "    bleu_data = np.zeros((file_size, 4*back_translation_num))\n",
    "\n",
    "    # Calculate BLEU Score for each sentence and its back-translations\n",
    "    for lang_idx, lang in enumerate(lang_pool):\n",
    "        lang_path = join_path(path, lang)\n",
    "        if not os.path.isdir(lang_path):\n",
    "            pass\n",
    "        else:\n",
    "            sentences = []\n",
    "            for i in range(0, back_translation_num + 1):\n",
    "                file_name = 'T{}.txt'.format(i)\n",
    "                file_data = open(join_path(lang_path, file_name),\n",
    "                                 'r').read().split('\\n')\n",
    "                sentences.append(file_data)\n",
    "\n",
    "            for i in range(0, file_size):\n",
    "                for j in range(0, back_translation_num):\n",
    "                    ref_sentence, _ = tokenizer.tokenize(sentences[j][i])\n",
    "                    hypothesis, _ = tokenizer.tokenize(sentences[j+1][i])\n",
    "                    # ref_sentence = sentences[j][i]\n",
    "                    # hypothesis = sentences[j+1][i]\n",
    "                    bleu_data[i, lang_idx * back_translation_num +\n",
    "                        j] = score_func(ref_sentence, hypothesis) if len(hypothesis) > 3 else 0\n",
    "\n",
    "    # Append src and origin data\n",
    "    bleu_data = np.hstack(\n",
    "        (bleu_data, np.full((file_size, 1), lang_pool.index(directory[-2:]))))\n",
    "    bleu_data = np.hstack(\n",
    "        (bleu_data, np.full((file_size, 1), lang_pool.index(directory[:2]))))\n",
    "\n",
    "    # Append sentence length data fron the src file\n",
    "    src_sentences = open(join_path(location, '{}.txt'.format(directory)), 'r').read().split('\\n')\n",
    "    tok_sentences = [tokenizer.tokenize(s)[0] for s in src_sentences]\n",
    "    lengths = [len(ts) for ts in tok_sentences]\n",
    "    bleu_data = np.hstack((bleu_data, np.array([lengths]).T))\n",
    "    \n",
    "    data = np.vstack((data, bleu_data))\n"
   ]
  },
  {
   "cell_type": "code",
   "execution_count": 6,
   "metadata": {},
   "outputs": [
    {
     "output_type": "execute_result",
     "data": {
      "text/plain": [
       "(29071, 11)"
      ]
     },
     "metadata": {},
     "execution_count": 6
    }
   ],
   "source": [
    "data.shape"
   ]
  },
  {
   "cell_type": "code",
   "execution_count": 7,
   "metadata": {},
   "outputs": [],
   "source": [
    "final_data = np.delete(data, (0), axis=0)\n",
    "dataFrame = pd.DataFrame(final_data, index=range(0, final_data.shape[0]), columns=columns)\n",
    "dataFrame['src'] = dataFrame['src'].apply(lambda x: lang_pool[int(x)])\n",
    "dataFrame['origin'] = dataFrame['origin'].apply(lambda x: lang_pool[int(x)])\n",
    "dataFrame.to_csv(join_path(out_location, 'bleu_table_se_extended.csv'))\n"
   ]
  },
  {
   "cell_type": "code",
   "execution_count": 8,
   "metadata": {},
   "outputs": [
    {
     "output_type": "execute_result",
     "data": {
      "text/plain": [
       "   T0-T1_en  T1-T2_en  T0-T1_es  T1-T2_es  T0-T1_fr  T1-T2_fr  T0-T1_de  \\\n",
       "0  0.947723  1.000000  0.922872  1.000000       0.0       0.0  0.888121   \n",
       "1  0.855590  1.000000  0.872833  0.976575       0.0       0.0  0.709730   \n",
       "2  0.952221  1.000000  0.860168  1.000000       0.0       0.0  0.666143   \n",
       "3  0.874620  0.968247  0.820390  0.931801       0.0       0.0  0.614086   \n",
       "4  0.861594  0.898524  0.949721  0.924916       0.0       0.0  0.812970   \n",
       "\n",
       "   T1-T2_de src origin    len  \n",
       "0  1.000000  fr     en  141.0  \n",
       "1  0.878135  fr     en  137.0  \n",
       "2  0.908386  fr     en  121.0  \n",
       "3  0.914396  fr     en  117.0  \n",
       "4  0.869073  fr     en  121.0  "
      ],
      "text/html": "<div>\n<style scoped>\n    .dataframe tbody tr th:only-of-type {\n        vertical-align: middle;\n    }\n\n    .dataframe tbody tr th {\n        vertical-align: top;\n    }\n\n    .dataframe thead th {\n        text-align: right;\n    }\n</style>\n<table border=\"1\" class=\"dataframe\">\n  <thead>\n    <tr style=\"text-align: right;\">\n      <th></th>\n      <th>T0-T1_en</th>\n      <th>T1-T2_en</th>\n      <th>T0-T1_es</th>\n      <th>T1-T2_es</th>\n      <th>T0-T1_fr</th>\n      <th>T1-T2_fr</th>\n      <th>T0-T1_de</th>\n      <th>T1-T2_de</th>\n      <th>src</th>\n      <th>origin</th>\n      <th>len</th>\n    </tr>\n  </thead>\n  <tbody>\n    <tr>\n      <th>0</th>\n      <td>0.947723</td>\n      <td>1.000000</td>\n      <td>0.922872</td>\n      <td>1.000000</td>\n      <td>0.0</td>\n      <td>0.0</td>\n      <td>0.888121</td>\n      <td>1.000000</td>\n      <td>fr</td>\n      <td>en</td>\n      <td>141.0</td>\n    </tr>\n    <tr>\n      <th>1</th>\n      <td>0.855590</td>\n      <td>1.000000</td>\n      <td>0.872833</td>\n      <td>0.976575</td>\n      <td>0.0</td>\n      <td>0.0</td>\n      <td>0.709730</td>\n      <td>0.878135</td>\n      <td>fr</td>\n      <td>en</td>\n      <td>137.0</td>\n    </tr>\n    <tr>\n      <th>2</th>\n      <td>0.952221</td>\n      <td>1.000000</td>\n      <td>0.860168</td>\n      <td>1.000000</td>\n      <td>0.0</td>\n      <td>0.0</td>\n      <td>0.666143</td>\n      <td>0.908386</td>\n      <td>fr</td>\n      <td>en</td>\n      <td>121.0</td>\n    </tr>\n    <tr>\n      <th>3</th>\n      <td>0.874620</td>\n      <td>0.968247</td>\n      <td>0.820390</td>\n      <td>0.931801</td>\n      <td>0.0</td>\n      <td>0.0</td>\n      <td>0.614086</td>\n      <td>0.914396</td>\n      <td>fr</td>\n      <td>en</td>\n      <td>117.0</td>\n    </tr>\n    <tr>\n      <th>4</th>\n      <td>0.861594</td>\n      <td>0.898524</td>\n      <td>0.949721</td>\n      <td>0.924916</td>\n      <td>0.0</td>\n      <td>0.0</td>\n      <td>0.812970</td>\n      <td>0.869073</td>\n      <td>fr</td>\n      <td>en</td>\n      <td>121.0</td>\n    </tr>\n  </tbody>\n</table>\n</div>"
     },
     "metadata": {},
     "execution_count": 8
    }
   ],
   "source": [
    "dataFrame.head()"
   ]
  },
  {
   "cell_type": "code",
   "execution_count": null,
   "metadata": {},
   "outputs": [],
   "source": []
  }
 ],
 "metadata": {
  "language_info": {
   "codemirror_mode": {
    "name": "ipython",
    "version": 3
   },
   "file_extension": ".py",
   "mimetype": "text/x-python",
   "name": "python",
   "nbconvert_exporter": "python",
   "pygments_lexer": "ipython3",
   "version": "3.8.5-final"
  },
  "orig_nbformat": 2,
  "kernelspec": {
   "name": "Python 3.8.5 64-bit ('venv')",
   "display_name": "Python 3.8.5 64-bit ('venv')",
   "metadata": {
    "interpreter": {
     "hash": "72367b81df62cacbe340dc3857adc6dad15848bdc784de8048814aca17ca7315"
    }
   }
  }
 },
 "nbformat": 4,
 "nbformat_minor": 2
}