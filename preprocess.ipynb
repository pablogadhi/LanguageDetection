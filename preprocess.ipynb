{
 "cells": [
  {
   "cell_type": "code",
   "execution_count": 1,
   "metadata": {},
   "outputs": [],
   "source": [
    "import random\n",
    "import os\n",
    "import numpy as np\n",
    "from os import listdir, remove, mkdir\n",
    "from os.path import join as join_path"
   ]
  },
  {
   "cell_type": "markdown",
   "metadata": {},
   "source": [
    "## Preprocessing europarl data"
   ]
  },
  {
   "cell_type": "code",
   "execution_count": 2,
   "metadata": {},
   "outputs": [],
   "source": [
    "euro_data_dir = \"../europarl/aligned/\"\n",
    "output_data_dir = \"./data/\""
   ]
  },
  {
   "cell_type": "markdown",
   "metadata": {},
   "source": [
    "### Join Files"
   ]
  },
  {
   "cell_type": "code",
   "execution_count": 3,
   "metadata": {
    "tags": []
   },
   "outputs": [],
   "source": [
    "for l_pair in listdir(euro_data_dir):\n",
    "    pair_path = join_path(euro_data_dir, l_pair)\n",
    "    for l_dir in listdir(pair_path):\n",
    "        out_file = open(output_data_dir + l_pair + \"_\" + l_dir + \".txt\", \"w\")\n",
    "        l_path = join_path(pair_path, l_dir)\n",
    "        for file_name in sorted(listdir(l_path)):\n",
    "            # Consume content and split lines\n",
    "            content = open(join_path(l_path, file_name), \"r\").read() \n",
    "\n",
    "            # Write content in output file\n",
    "            out_file.write(content)\n"
   ]
  },
  {
   "cell_type": "markdown",
   "metadata": {},
   "source": [
    "### Load corpus in memory"
   ]
  },
  {
   "cell_type": "code",
   "execution_count": 4,
   "metadata": {},
   "outputs": [],
   "source": [
    "corpus = {}\n",
    "for file_name in listdir(output_data_dir):\n",
    "    path = join_path(output_data_dir, file_name)\n",
    "    if os.path.isfile(path):\n",
    "        file = open(path, \"r+\")\n",
    "        l_pair = file_name[:5]\n",
    "        if l_pair not in corpus:\n",
    "            corpus[l_pair] = {}\n",
    "        corpus[l_pair][file_name] = np.array(file.read().split('\\n'), dtype=object)\n",
    "        file.close()\n",
    "        remove(path)"
   ]
  },
  {
   "cell_type": "markdown",
   "metadata": {},
   "source": [
    "### Delete empty lines and lines with xml tags"
   ]
  },
  {
   "cell_type": "code",
   "execution_count": 5,
   "metadata": {
    "tags": []
   },
   "outputs": [
    {
     "output_type": "stream",
     "name": "stdout",
     "text": "2048549\n2048549\n1957802\n1957802\n2007131\n2007131\n"
    }
   ],
   "source": [
    "for pair, l_data in corpus.items():\n",
    "\n",
    "    # Find special lines\n",
    "    empty_lines = np.array([], dtype=int)\n",
    "    for _, value in l_data.items():\n",
    "        is_empty = np.vectorize(lambda x: len(x) == 0 or x[0] == \"<\")\n",
    "        indices = np.nonzero(is_empty(value))[0]\n",
    "        empty_lines = np.concatenate((empty_lines, indices))\n",
    "    empty_lines = np.unique(empty_lines)\n",
    "\n",
    "    # Remove lines with an xml tag or an empty char\n",
    "    for key, value in l_data.items():\n",
    "        new_corpus = np.delete(value, empty_lines)\n",
    "        corpus[pair][key] = new_corpus.tolist()\n",
    "        print(len(new_corpus))\n",
    "        "
   ]
  },
  {
   "cell_type": "markdown",
   "metadata": {},
   "source": [
    "### Write new file(s)"
   ]
  },
  {
   "cell_type": "code",
   "execution_count": 8,
   "metadata": {},
   "outputs": [],
   "source": [
    "for lang_pair, pair_dict in corpus.items():\n",
    "    for file_name, data in pair_dict.items():\n",
    "        file = open(join_path(output_data_dir, file_name), 'w')\n",
    "        file.write(\"\\n\".join(data))\n"
   ]
  },
  {
   "cell_type": "code",
   "execution_count": null,
   "metadata": {},
   "outputs": [],
   "source": []
  }
 ],
 "metadata": {
  "language_info": {
   "codemirror_mode": {
    "name": "ipython",
    "version": 3
   },
   "file_extension": ".py",
   "mimetype": "text/x-python",
   "name": "python",
   "nbconvert_exporter": "python",
   "pygments_lexer": "ipython3",
   "version": "3.8.2-final"
  },
  "orig_nbformat": 2,
  "kernelspec": {
   "name": "python38264bitlanguagedetectionpipenv382f6b637c4e47f9bb779a88a8777172",
   "display_name": "Python 3.8.2 64-bit ('LanguageDetection': pipenv)"
  }
 },
 "nbformat": 4,
 "nbformat_minor": 2
}